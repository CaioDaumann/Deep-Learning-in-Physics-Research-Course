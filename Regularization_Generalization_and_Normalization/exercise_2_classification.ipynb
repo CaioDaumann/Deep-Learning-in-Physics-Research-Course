{
 "cells": [
  {
   "cell_type": "markdown",
   "id": "45d9f6b7",
   "metadata": {},
   "source": [
    "# Exercise 2 - Classification\n",
    "\n",
    "Suppose we want to classify some data (4 samples) into 3 distinct classes: 0, 1, and 2.\n",
    "We have set up a network with a pre-activation output z in the last layer.\n",
    "Applying softmax will give the final model output.\n",
    "input X ---> some network --> z --> y_model = softmax(z)\n",
    "\n",
    "We quantify the agreement between truth (y) and model using categorical cross-entropy.\n",
    "\n",
    "```J = - sum_i (y_i * log(y_model(x_i))```\n",
    "\n",
    "In the following you are to implement softmax and categorical cross-entropy and evaluate them values given the values for z.\n"
   ]
  },
  {
   "cell_type": "code",
   "execution_count": 1,
   "id": "20acf567",
   "metadata": {},
   "outputs": [],
   "source": [
    "from __future__ import print_function\n",
    "from comet_ml import Experiment\n",
    "import numpy as np\n",
    "import tensorflow as tf"
   ]
  },
  {
   "cell_type": "code",
   "execution_count": 2,
   "id": "a5e69c65",
   "metadata": {},
   "outputs": [
    {
     "name": "stderr",
     "output_type": "stream",
     "text": [
      "\u001b[1;38;5;214mCOMET WARNING:\u001b[0m As you are running in a Jupyter environment, you will need to call `experiment.end()` when finished to ensure all metrics and code are logged before exiting.\n",
      "\u001b[1;38;5;196mCOMET ERROR:\u001b[0m The given API key EnterYourAPIKey is invalid on www.comet.com, please check it against the dashboard. Your experiment will not be logged \n",
      "For more details, please refer to: https://www.comet.com/docs/v2/api-and-sdk/python-sdk/warnings-errors/\n",
      "\u001b[1;38;5;196mCOMET ERROR:\u001b[0m The given API key EnterYourAPIKey is invalid on www.comet.com, please check it against the dashboard. Your experiment will not be logged \n",
      "For more details, please refer to: https://www.comet.com/docs/v2/api-and-sdk/python-sdk/warnings-errors/\n"
     ]
    }
   ],
   "source": [
    "experiment = Experiment(\n",
    "    api_key=\"EnterYourAPIKey\",\n",
    "    project_name=\"exercise2\",\n",
    "    workspace=\"EnterGroupWorkspaceHere\",\n",
    ")"
   ]
  },
  {
   "cell_type": "code",
   "execution_count": 3,
   "id": "16ba87e3",
   "metadata": {},
   "outputs": [
    {
     "name": "stdout",
     "output_type": "stream",
     "text": [
      "\n",
      "TensorFlow 2.0 ------------------------------ \n"
     ]
    }
   ],
   "source": [
    "# Data: 4 samples with the following class labels (input features X irrelevant here)\n",
    "y_cl = np.array([0, 0, 2, 1])\n",
    "\n",
    "# output of the last network layer before applying softmax\n",
    "z = np.array([[4, 5, 1], [-1, -2, -3], [0.1, 0.2, 0.3], [-1, 17, 1]]).astype(np.float32)\n",
    "\n",
    "\n",
    "# TensorFlow implementation as reference. Make sure you get the same results!\n",
    "print(\"\\nTensorFlow 2.0 ------------------------------ \")"
   ]
  },
  {
   "cell_type": "code",
   "execution_count": 4,
   "id": "1a091947",
   "metadata": {},
   "outputs": [
    {
     "name": "stdout",
     "output_type": "stream",
     "text": [
      "softmax(z)\n",
      "tf.Tensor(\n",
      "[[2.6538792e-01 7.2139919e-01 1.3212888e-02]\n",
      " [6.6524094e-01 2.4472848e-01 9.0030573e-02]\n",
      " [3.0060959e-01 3.3222499e-01 3.6716542e-01]\n",
      " [1.5229979e-08 9.9999988e-01 1.1253516e-07]], shape=(4, 3), dtype=float32)\n",
      "cross entropy tf.Tensor(0.6840279, shape=(), dtype=float32)\n"
     ]
    }
   ],
   "source": [
    "def crossentropy(x, y):\n",
    "    return tf.reduce_mean(-tf.reduce_sum(y * tf.math.log(x), axis=1))\n",
    "\n",
    "\n",
    "y = tf.one_hot(y_cl, 3)\n",
    "y_model = tf.nn.softmax(z)\n",
    "\n",
    "print(\"softmax(z)\")\n",
    "print(y_model)\n",
    "print(\"cross entropy\", crossentropy(y_model, y))"
   ]
  },
  {
   "cell_type": "code",
   "execution_count": 5,
   "id": "9c6d7341",
   "metadata": {},
   "outputs": [
    {
     "name": "stdout",
     "output_type": "stream",
     "text": [
      "\n",
      "My solution ------------------------------ \n"
     ]
    }
   ],
   "source": [
    "print(\"\\nMy solution ------------------------------ \")\n",
    "# 1) Write a function that turns any class labels y_cl into one-hot encodings y.\n",
    "#    0 --> (1, 0, 0)\n",
    "#    1 --> (0, 1, 0)\n",
    "#    2 --> (0, 0, 1)\n",
    "#    Make sure that np.shape(y) = (4, 3) for np.shape(y_cl) = (4).\n",
    "\n",
    "\n",
    "def to_onehot(y_cl, num_classes):\n",
    "    y = np.zeros((len(y_cl), num_classes))\n",
    "    return y"
   ]
  },
  {
   "cell_type": "code",
   "execution_count": null,
   "id": "61002100",
   "metadata": {},
   "outputs": [],
   "source": []
  }
 ],
 "metadata": {
  "kernelspec": {
   "display_name": "Python 3 (ipykernel)",
   "language": "python",
   "name": "python3"
  },
  "language_info": {
   "codemirror_mode": {
    "name": "ipython",
    "version": 3
   },
   "file_extension": ".py",
   "mimetype": "text/x-python",
   "name": "python",
   "nbconvert_exporter": "python",
   "pygments_lexer": "ipython3",
   "version": "3.11.6"
  }
 },
 "nbformat": 4,
 "nbformat_minor": 5
}
