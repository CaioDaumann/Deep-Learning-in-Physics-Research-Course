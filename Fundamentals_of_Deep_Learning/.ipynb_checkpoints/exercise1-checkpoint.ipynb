{
 "cells": [
  {
   "cell_type": "markdown",
   "id": "77ea5cb6",
   "metadata": {},
   "source": [
    "# Fundamentals of Deep Learning\n",
    " \n",
    "## Exercise 1: Introduction to the TensorFlow API"
   ]
  },
  {
   "cell_type": "code",
   "execution_count": 4,
   "id": "7c87f7d1",
   "metadata": {},
   "outputs": [],
   "source": [
    "import numpy as np\n",
    "import tensorflow as tf"
   ]
  },
  {
   "cell_type": "code",
   "execution_count": 5,
   "id": "1ec181e3",
   "metadata": {},
   "outputs": [
    {
     "name": "stdout",
     "output_type": "stream",
     "text": [
      "\n",
      "Constants\n",
      "=====================\n",
      "tf.ones([3, 2]) = tf.Tensor(\n",
      "[[1. 1.]\n",
      " [1. 1.]\n",
      " [1. 1.]], shape=(3, 2), dtype=float32)\n",
      "tf.zeros([5]) = tf.Tensor([0. 0. 0. 0. 0.], shape=(5,), dtype=float32)\n",
      "tf.random_uniform([1, 3]) = tf.Tensor([[0.60183203 0.22307587 0.6234964 ]], shape=(1, 3), dtype=float32)\n",
      "tf.linspace(1.0, 7.0, 4) = tf.Tensor([1. 3. 5. 7.], shape=(4,), dtype=float32)\n",
      "tf.convert_to_tensor( np.linspace(1, 7, 4) ) = tf.Tensor([1. 3. 5. 7.], shape=(4,), dtype=float64)\n"
     ]
    }
   ],
   "source": [
    "# Constants, sequences and random values, similar to numpy\n",
    "print(\"\\nConstants\\n=====================\")\n",
    "\n",
    "t1 = tf.ones([3, 2])\n",
    "t2 = tf.zeros([5])\n",
    "t3 = tf.random.uniform([1, 3])\n",
    "t4 = tf.linspace(1.0, 7.0, 4)  # note the first 2 arguments are floats\n",
    "t5 = tf.convert_to_tensor(np.linspace(1, 7, 4))\n",
    "\n",
    "# all tensorflow expressions are evaluated in a \"Session\"\n",
    "print(\"tf.ones([3, 2]) = %s\" % t1)\n",
    "print(\"tf.zeros([5]) = %s\" % t2)\n",
    "print(\"tf.random_uniform([1, 3]) = %s\" % t3)\n",
    "print(\"tf.linspace(1.0, 7.0, 4) = %s\" % t4)\n",
    "print(\"tf.convert_to_tensor( np.linspace(1, 7, 4) ) = %s\" % t5)"
   ]
  },
  {
   "cell_type": "code",
   "execution_count": null,
   "id": "41cbd7cb",
   "metadata": {},
   "outputs": [],
   "source": [
    "# Variables (used extensively in NNs)\n",
    "print(\"\\nVariables\\n=====================\")\n",
    "\n",
    "w = tf.Variable(tf.zeros([3, 2]))\n",
    "\n",
    "# variables need to be initialized first\n",
    "print(\"w = %s\" % w)\n",
    "\n",
    "# assign new values\n",
    "w.assign(tf.ones([3, 2]))\n",
    "\n",
    "# retrieve values\n",
    "print(\"w = %s\" % w)"
   ]
  },
  {
   "cell_type": "code",
   "execution_count": null,
   "id": "5f9fa610",
   "metadata": {},
   "outputs": [],
   "source": [
    "# models are build as a class holding the Symbolic variables\n",
    "# feeding is done using the high performance tf.data API (used for input + output in DNNs)\n",
    "print(\"\\nSymbolic variables\\n=====================\")\n",
    "\n",
    "# create TF datasets\n",
    "# datasets allow you to manage your data\n",
    "dataset = tf.data.Dataset.from_tensor_slices(\n",
    "    ([8.0, 3.0, 0.0, 8.0, 2.0, 1.0], [16.0, 6.0, 0.0, 16.0, 8.0, 2.0])\n",
    ")  # input, output\n",
    "\n",
    "\n",
    "# Models are defined using a class holding the adaptive variables\n",
    "# usually a model holds you Neural Network\n",
    "# init: Define the model. initialization of variables\n",
    "# call: Which operations are performed in the model\n",
    "\n",
    "\n",
    "class Model(object):\n",
    "    def __init__(self):\n",
    "        self.W = tf.Variable(0.1)\n",
    "\n",
    "    def __call__(self, x):\n",
    "        return self.W * x\n",
    "\n",
    "\n",
    "model = Model()  # build the model\n",
    "\n",
    "for x, y in dataset:  # loop over dataset\n",
    "\n",
    "    print(\"x\", x, \"y\", y)\n",
    "\n",
    "    with tf.GradientTape() as tape:\n",
    "\n",
    "        current_loss = (y - model(x)) ** 2  # calculate loss (FORWARD PASS)\n",
    "        dW = tape.gradient(current_loss, model.W)  # calculate gradient (BACKWARD PASS)\n",
    "        model.W.assign_sub(\n",
    "            dW\n",
    "        )  # update model parameters assign_sub -> x-=y (gradient descent)"
   ]
  },
  {
   "cell_type": "code",
   "execution_count": 7,
   "id": "4ed1bb0a",
   "metadata": {},
   "outputs": [
    {
     "name": "stdout",
     "output_type": "stream",
     "text": [
      "\n",
      "Mathematical functions\n",
      "=====================\n",
      "x = tf.Tensor([0. 1. 2. 3. 4.], shape=(5,), dtype=float32)\n",
      "(x+1)**2 - 2) = tf.Tensor([-1.  2.  7. 14. 23.], shape=(5,), dtype=float32)\n",
      "sin(x) tf.Tensor([ 0.         0.841471   0.9092974  0.14112   -0.7568025], shape=(5,), dtype=float32)\n",
      "sum(x) tf.Tensor(10.0, shape=(), dtype=float32)\n"
     ]
    },
    {
     "data": {
      "text/plain": [
       "<tf.Tensor: shape=(2, 3), dtype=float32, numpy=\n",
       "array([[0., 0., 0.],\n",
       "       [0., 0., 0.]], dtype=float32)>"
      ]
     },
     "execution_count": 7,
     "metadata": {},
     "output_type": "execute_result"
    }
   ],
   "source": [
    "# Mathematical operations and functions\n",
    "print(\"\\nMathematical functions\\n=====================\")\n",
    "\n",
    "x = tf.linspace(0.0, 4.0, 5)\n",
    "\n",
    "print(\"x =\", x)\n",
    "print(\"(x+1)**2 - 2) =\", (x + 1.0) ** 2 - 2.0)\n",
    "print(\"sin(x)\", tf.sin(x))\n",
    "print(\"sum(x)\", tf.reduce_sum(x))\n",
    "\n",
    "\n",
    "# TensorFlow is vectorized: mathematical operations work on scalars and (element-wise) on tensors of any shape\n",
    "# For example, these expressions are allowed:\n",
    "tf.sin(3.0)\n",
    "tf.sin([1.0, 2.0, 3.0])\n",
    "tf.sin(tf.linspace(0.0, 10.0, 20))\n",
    "tf.sin(np.linspace(0, 10, 20))  # equivalent\n",
    "tf.sin(tf.ones(shape=(2, 3, 4)))  # 2x3x4 tensor\n",
    "\n",
    "\n",
    "# Operators (+, -, /, *) are available\n",
    "a = tf.zeros(shape=(2, 3))\n",
    "b = tf.ones(shape=(2, 3))\n",
    "c = tf.ones(shape=(3, 2))\n",
    "\n",
    "a + b  # same as tf.add(a, b)\n",
    "a - b  # same as tf.subtract(a, b)\n",
    "a * b  # same as tf.mul(a, b)\n",
    "a / b  # same as tf.division(a, b)\n",
    "# a + c  # doesn't work; tensors need to be of same shape"
   ]
  },
  {
   "cell_type": "code",
   "execution_count": null,
   "id": "dc512eda",
   "metadata": {},
   "outputs": [],
   "source": []
  }
 ],
 "metadata": {
  "kernelspec": {
   "display_name": "Python 3 (ipykernel)",
   "language": "python",
   "name": "python3"
  },
  "language_info": {
   "codemirror_mode": {
    "name": "ipython",
    "version": 3
   },
   "file_extension": ".py",
   "mimetype": "text/x-python",
   "name": "python",
   "nbconvert_exporter": "python",
   "pygments_lexer": "ipython3",
   "version": "3.11.6"
  }
 },
 "nbformat": 4,
 "nbformat_minor": 5
}
